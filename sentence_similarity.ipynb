{
 "cells": [
  {
   "cell_type": "markdown",
   "id": "62b785ac",
   "metadata": {},
   "source": [
    "### References\n",
    "- https://huggingface.co/sentence-transformers/all-MiniLM-L6-v2\n",
    "- https://www.sbert.net/docs/usage/semantic_textual_similarity.html\n",
    "- https://towardsdatascience.com/how-to-cluster-similar-sentences-using-tf-idf-and-graph-partitioning-in-python-5fb70627a4e0"
   ]
  },
  {
   "cell_type": "code",
   "execution_count": 32,
   "id": "864e8d2d",
   "metadata": {},
   "outputs": [
    {
     "name": "stdout",
     "output_type": "stream",
     "text": [
      "=====\n",
      "tensor([[ 1.0000,  0.0327,  0.2399,  0.2270,  0.6098,  0.0272,  0.0214,  0.0788],\n",
      "        [ 0.0327,  1.0000,  0.1269,  0.1244,  0.1311,  0.6025,  0.0734,  0.0977],\n",
      "        [ 0.2399,  0.1269,  1.0000,  0.1702,  0.0610,  0.0494,  0.0884,  0.0704],\n",
      "        [ 0.2270,  0.1244,  0.1702,  1.0000,  0.0957,  0.0174,  0.4033,  0.3272],\n",
      "        [ 0.6098,  0.1311,  0.0610,  0.0957,  1.0000,  0.0369,  0.0134,  0.0188],\n",
      "        [ 0.0272,  0.6025,  0.0494,  0.0174,  0.0369,  1.0000, -0.0584, -0.0379],\n",
      "        [ 0.0214,  0.0734,  0.0884,  0.4033,  0.0134, -0.0584,  1.0000,  0.6779],\n",
      "        [ 0.0788,  0.0977,  0.0704,  0.3272,  0.0188, -0.0379,  0.6779,  1.0000]])\n",
      "=====\n",
      "Floor is wet --- i almost slipped because floor is very wet --- Score: 0.6779\n",
      "HDMI is flickering --- HDMI monitor not working --- Score: 0.6098\n",
      "Books not available --- College needs to make books available in the library --- Score: 0.6025\n",
      "Water leaking --- Floor is wet --- Score: 0.4033\n",
      "Water leaking --- i almost slipped because floor is very wet --- Score: 0.3272\n",
      "HDMI is flickering --- Internet slow --- Score: 0.2399\n",
      "HDMI is flickering --- Water leaking --- Score: 0.2270\n",
      "Internet slow --- Water leaking --- Score: 0.1702\n",
      "Books not available --- HDMI monitor not working --- Score: 0.1311\n",
      "Books not available --- Internet slow --- Score: 0.1269\n"
     ]
    }
   ],
   "source": [
    "from sentence_transformers import SentenceTransformer, util\n",
    "\n",
    "model = SentenceTransformer('all-MiniLM-L6-v2')\n",
    "\n",
    "# Single list of sentences\n",
    "sentences = ['HDMI is flickering',\n",
    "             'Books not available',\n",
    "             'Internet slow',\n",
    "             'Water leaking',\n",
    "             'HDMI monitor not working',\n",
    "             'College needs to make books available in the library',\n",
    "             'Floor is wet',\n",
    "             'i almost slipped because floor is very wet']\n",
    "\n",
    "#Compute embeddings\n",
    "embeddings = model.encode(sentences, convert_to_tensor=True)\n",
    "\n",
    "#Compute cosine-similarities for each sentence with each other sentence\n",
    "cosine_scores = util.cos_sim(embeddings, embeddings)\n",
    "print(\"=====\")\n",
    "print(cosine_scores)\n",
    "print(\"=====\")\n",
    "\n",
    "#Find the pairs with the highest cosine similarity scores\n",
    "pairs = []\n",
    "for i in range(len(cosine_scores)-1):\n",
    "    for j in range(i+1, len(cosine_scores)):\n",
    "        pairs.append({'index': [i, j], 'score': cosine_scores[i][j]})\n",
    "\n",
    "#Sort scores in decreasing order\n",
    "pairs = sorted(pairs, key=lambda x: x['score'], reverse=True)\n",
    "\n",
    "for pair in pairs[0:10]:\n",
    "    i, j = pair['index']\n",
    "    print(\"{} --- {} --- Score: {:.4f}\".format(sentences[i], sentences[j], pair['score']))"
   ]
  },
  {
   "cell_type": "markdown",
   "id": "10de7108",
   "metadata": {},
   "source": [
    "### Sentences, cosine scores and visualizing the relationships"
   ]
  },
  {
   "cell_type": "code",
   "execution_count": 33,
   "id": "6e1b8afb",
   "metadata": {},
   "outputs": [
    {
     "data": {
      "text/plain": [
       "['HDMI is flickering',\n",
       " 'Books not available',\n",
       " 'Internet slow',\n",
       " 'Water leaking',\n",
       " 'HDMI monitor not working',\n",
       " 'College needs to make books available in the library',\n",
       " 'Floor is wet',\n",
       " 'i almost slipped because floor is very wet']"
      ]
     },
     "execution_count": 33,
     "metadata": {},
     "output_type": "execute_result"
    }
   ],
   "source": [
    "sentences"
   ]
  },
  {
   "cell_type": "code",
   "execution_count": 34,
   "id": "b31c3e61",
   "metadata": {},
   "outputs": [
    {
     "data": {
      "text/plain": [
       "tensor([[ 1.0000,  0.0327,  0.2399,  0.2270,  0.6098,  0.0272,  0.0214,  0.0788],\n",
       "        [ 0.0327,  1.0000,  0.1269,  0.1244,  0.1311,  0.6025,  0.0734,  0.0977],\n",
       "        [ 0.2399,  0.1269,  1.0000,  0.1702,  0.0610,  0.0494,  0.0884,  0.0704],\n",
       "        [ 0.2270,  0.1244,  0.1702,  1.0000,  0.0957,  0.0174,  0.4033,  0.3272],\n",
       "        [ 0.6098,  0.1311,  0.0610,  0.0957,  1.0000,  0.0369,  0.0134,  0.0188],\n",
       "        [ 0.0272,  0.6025,  0.0494,  0.0174,  0.0369,  1.0000, -0.0584, -0.0379],\n",
       "        [ 0.0214,  0.0734,  0.0884,  0.4033,  0.0134, -0.0584,  1.0000,  0.6779],\n",
       "        [ 0.0788,  0.0977,  0.0704,  0.3272,  0.0188, -0.0379,  0.6779,  1.0000]])"
      ]
     },
     "execution_count": 34,
     "metadata": {},
     "output_type": "execute_result"
    }
   ],
   "source": [
    "cosine_scores"
   ]
  },
  {
   "cell_type": "code",
   "execution_count": null,
   "id": "3b582e08",
   "metadata": {},
   "outputs": [],
   "source": []
  }
 ],
 "metadata": {
  "kernelspec": {
   "display_name": "Python 3 (ipykernel)",
   "language": "python",
   "name": "python3"
  },
  "language_info": {
   "codemirror_mode": {
    "name": "ipython",
    "version": 3
   },
   "file_extension": ".py",
   "mimetype": "text/x-python",
   "name": "python",
   "nbconvert_exporter": "python",
   "pygments_lexer": "ipython3",
   "version": "3.10.11"
  }
 },
 "nbformat": 4,
 "nbformat_minor": 5
}
